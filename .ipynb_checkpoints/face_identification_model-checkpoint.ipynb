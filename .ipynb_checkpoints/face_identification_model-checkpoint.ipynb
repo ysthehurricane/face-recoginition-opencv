{
 "cells": [
  {
   "cell_type": "code",
   "execution_count": 5,
   "metadata": {},
   "outputs": [
    {
     "data": {
      "text/plain": [
       "'G:\\\\AI\\\\opencv\\\\face identification\\\\images'"
      ]
     },
     "execution_count": 5,
     "metadata": {},
     "output_type": "execute_result"
    }
   ],
   "source": [
    "import os\n",
    "from PIL import Image  #import PIL library  install = pip install pillow  \n",
    "import numpy as np\n",
    "import cv2\n",
    "#location of base directory\n",
    "base_dir = os.path.dirname(os.path.abspath('__file__'))\n",
    "#base_dir\n",
    "\n",
    "#location of image folder directory\n",
    "image_dir = os.path.join(base_dir,\"images\")\n",
    "image_dir"
   ]
  },
  {
   "cell_type": "code",
   "execution_count": 6,
   "metadata": {},
   "outputs": [],
   "source": [
    "face_cascade = cv2.CascadeClassifier('data/haarcascade_frontalface_alt2.xml')\n",
    "recognizer = cv2.face.LBPHFaceRecognizer_create()\n",
    "\n",
    "y_labels = []\n",
    "x_train = []\n",
    "current_id = 0\n",
    "label_ids = {}"
   ]
  },
  {
   "cell_type": "code",
   "execution_count": 7,
   "metadata": {},
   "outputs": [],
   "source": [
    "for root , dirs , files in os.walk(image_dir):\n",
    "    for file in files:\n",
    "        if file.endswith(\"png\") or file.endswith(\"jpg\") or file.endswith(\"PNG\") or file.endswith(\"jpeg\") or file.endswith(\"JPEG\") or file.endswith(\"JPG\"):\n",
    "            path = os.path.join(root,file)\n",
    "            #print(path)\n",
    "            \n",
    "            label = os.path.basename(os.path.dirname(path)).replace(\" \",\"-\").lower()\n",
    "            #print(label)\n",
    "            \n",
    "            if not label in label_ids:\n",
    "                label_ids[label] = current_id\n",
    "                current_id += 1\n",
    "            ids = label_ids[label]\n",
    "           \n",
    "            #print(label_ids)\n",
    "            \n",
    "            pil_image =Image.open(path).convert(\"L\") #open image and convert into grayscale\n",
    "            \n",
    "            image_array = np.array(pil_image) #take pixel value of image in numpy array\n",
    "            \n",
    "            #print(image_array)\n",
    "            \n",
    "            faces = face_cascade.detectMultiScale(image_array,scaleFactor=1.5,minNeighbors=5)\n",
    "            \n",
    "            for (x,y,w,h) in faces:\n",
    "                roi = image_array[y:y+h , x:x+w]\n",
    "                x_train.append(roi)\n",
    "                y_labels.append(ids)\n",
    "                \n",
    "#print(y_labels)\n",
    "#print(x_train)\n",
    "\n",
    "import pickle\n",
    "\n",
    "with open('labels.pickle','wb') as f:\n",
    "    pickle.dump(label_ids, f)\n",
    "    \n",
    "recognizer.train(x_train,np.array(y_labels))\n",
    "recognizer.save(\"trainner.yml\")"
   ]
  },
  {
   "cell_type": "code",
   "execution_count": 4,
   "metadata": {},
   "outputs": [
    {
     "data": {
      "text/plain": [
       "LogisticRegression(C=1.0, class_weight=None, dual=False, fit_intercept=True,\n",
       "          intercept_scaling=1, max_iter=100, multi_class='warn',\n",
       "          n_jobs=None, penalty='l2', random_state=None, solver='warn',\n",
       "          tol=0.0001, verbose=0, warm_start=False)"
      ]
     },
     "execution_count": 4,
     "metadata": {},
     "output_type": "execute_result"
    }
   ],
   "source": [
    "from sklearn.linear_model import LogisticRegression\n",
    "import warnings\n",
    "warnings.filterwarnings('ignore')\n",
    "\n",
    "X = LogisticRegression()\n",
    "X"
   ]
  },
  {
   "cell_type": "code",
   "execution_count": null,
   "metadata": {},
   "outputs": [],
   "source": []
  }
 ],
 "metadata": {
  "kernelspec": {
   "display_name": "Python 3",
   "language": "python",
   "name": "python3"
  },
  "language_info": {
   "codemirror_mode": {
    "name": "ipython",
    "version": 3
   },
   "file_extension": ".py",
   "mimetype": "text/x-python",
   "name": "python",
   "nbconvert_exporter": "python",
   "pygments_lexer": "ipython3",
   "version": "3.5.2"
  }
 },
 "nbformat": 4,
 "nbformat_minor": 2
}
